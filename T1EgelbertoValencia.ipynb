{
 "cells": [
  {
   "cell_type": "markdown",
   "metadata": {},
   "source": [
    "# Presentación personal\n",
    "*Egelberto Valencia Valenzuela*\n",
    "\n",
    "*20 años*\n",
    "\n",
    "   Estudio Ingeniería en Nanotecnología en el Instituto tecnologíco de Estudios Superiores  de occidente, donde actulmente estoy cursando mi septimo semestre. Las razones por las cuales elegí mi carrera fueron:\n",
    "   - Me gustó su plan de estudios y como se incluían mucho el area de las matematicas.\n",
    "   - Su visión de campo de acción a futuro y como son carreras que a futuro serán cada vez más necesarias y solicitadas.\n",
    "   - Me gustó una rama en específica que esta carrera tiene que es la nanomedicina. Y poder investigar sobre algunas enfermedades incluyendo las genéticas y tratar de encontar una cura o hacer alguna modificación genética en algunos casos para ayudar a las personas. \n",
    "  \n",
    "Soy de Guamuchil sinaloa, se encuentra en medio de Culiacan la capital y los Mochis. Mi familia es de ese lugar como yo, soy el hijo primogénito de la familia y tengo una hermana de 15 años y un hermano de 10 años. \n",
    "\n",
    "Mi universidad la escogí porque es la única en Guadalajara que ofrece la carrera. Existen otras Universidades como el Tecnologíco de Monterrey pero solo esta en su campus madre en Monterrey. Y tomé la desición de estudiar en Guadalajara ya que es tradición por parte de la familia de mi papá, todos mis tíos y mi padre estudiaron en la Autónoma de Guadalajara, y para mi padre le era más fácil que me mudará a Guadalajara. \n",
    "  \n",
    "  \n",
    "  # Artículo 1: Programming language of the year? Python is standout in latest rankings\n",
    "  \n",
    "  El artículo nos habla de como Pyton ha tenido una revolución en los lenguajes de programación, tanto que ha sido uno de las palabras más buscadas por los buscadores en internet. Obteniendo 3.62 puntos porcentuales año tras año en el índice de enero de 2019 de Tiobe, superando las subidas de Visual Basic.NET y Java, la segunda y tercera mayor ganadora. \n",
    "  Por lo que su popularidad es tanta debido a su fácil comprensión por su sintaxis, que incluso los hackers utilizan este lenguague como herramienta para hawkear en la web, también su gran cantidad de bibliotecas accesibles que se puden tornar para usarse malisiosamente. \n",
    "  Se esta desarrollando una nueva versión para 2020, donde todos los proyectos se tendrán que mudar a pyton que será la única version disponible y gratuita. Nos habla asimismo de como otras plataformas con sus lenguajes de programación han estado callendo en el ranking de las más usadas al año como es el caso de alice que de estar en el puesto 26 cayó al 66 y como otras también como de tener un puesto bajo han ido subiendo poco a poco como es el ejemplo de Matlab que de estar en el ranking 18 subió al 11. \n",
    "  \n",
    "\n",
    "\n",
    "\n"
   ]
  },
  {
   "cell_type": "code",
   "execution_count": null,
   "metadata": {},
   "outputs": [],
   "source": []
  },
  {
   "cell_type": "code",
   "execution_count": null,
   "metadata": {},
   "outputs": [],
   "source": []
  }
 ],
 "metadata": {
  "kernelspec": {
   "display_name": "Python 3",
   "language": "python",
   "name": "python3"
  },
  "language_info": {
   "codemirror_mode": {
    "name": "ipython",
    "version": 3
   },
   "file_extension": ".py",
   "mimetype": "text/x-python",
   "name": "python",
   "nbconvert_exporter": "python",
   "pygments_lexer": "ipython3",
   "version": "3.7.3"
  }
 },
 "nbformat": 4,
 "nbformat_minor": 2
}
